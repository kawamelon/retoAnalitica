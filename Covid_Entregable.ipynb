{
  "nbformat": 4,
  "nbformat_minor": 0,
  "metadata": {
    "colab": {
      "provenance": []
    },
    "kernelspec": {
      "name": "python3",
      "display_name": "Python 3"
    },
    "language_info": {
      "name": "python"
    }
  },
  "cells": [
    {
      "cell_type": "markdown",
      "source": [
        "# Actividad Evaluable: Obtención de estadisticas descriptivas"
      ],
      "metadata": {
        "id": "wKA74mJXPd9i"
      }
    },
    {
      "cell_type": "code",
      "source": [
        "ls"
      ],
      "metadata": {
        "colab": {
          "base_uri": "https://localhost:8080/"
        },
        "id": "TMupeb0kGIpZ",
        "outputId": "e1fd8e96-cb56-4185-f0b5-4347adb0bf05"
      },
      "execution_count": 25,
      "outputs": [
        {
          "output_type": "stream",
          "name": "stdout",
          "text": [
            "covid19_tweets.csv  \u001b[0m\u001b[01;34msample_data\u001b[0m/\n"
          ]
        }
      ]
    },
    {
      "cell_type": "code",
      "execution_count": 21,
      "metadata": {
        "id": "31SjzVYHETkV"
      },
      "outputs": [],
      "source": [
        "import pandas as pd\n",
        "import numpy as np"
      ]
    },
    {
      "cell_type": "code",
      "source": [
        "data= pd.read_csv(\"covid19_tweets.csv\")\n",
        "data"
      ],
      "metadata": {
        "colab": {
          "base_uri": "https://localhost:8080/",
          "height": 894
        },
        "id": "ipXpIZJXGGWT",
        "outputId": "e81ae441-a09e-4d72-f995-1ab3df627cb5"
      },
      "execution_count": 12,
      "outputs": [
        {
          "output_type": "execute_result",
          "data": {
            "text/plain": [
              "                      user_name         user_location  \\\n",
              "0                        ᏉᎥ☻լꂅϮ            astroworld   \n",
              "1                 Tom Basile 🇺🇸          New York, NY   \n",
              "2               Time4fisticuffs      Pewee Valley, KY   \n",
              "3                   ethel mertz  Stuck in the Middle    \n",
              "4                      DIPR-J&K     Jammu and Kashmir   \n",
              "...                         ...                   ...   \n",
              "74431             Laura Wolfrom         Lexington, KY   \n",
              "74432  Professor Tonya M. Evans         😷 #stayathome   \n",
              "74433        People's Daily app           北京, 中华人民共和国   \n",
              "74434                     M0ser                   NaN   \n",
              "74435    Your Friend & Sabre ⚔️           Chicago, IL   \n",
              "\n",
              "                                        user_description         user_created  \\\n",
              "0      wednesday addams as a disney princess keepin i...  2017-05-26 05:46:42   \n",
              "1      Husband, Father, Columnist & Commentator. Auth...  2009-04-16 20:06:23   \n",
              "2      #Christian #Catholic #Conservative #Reagan #Re...  2009-02-28 18:57:41   \n",
              "3      #Browns #Indians #ClevelandProud #[]_[] #Cavs ...  2019-03-07 01:45:06   \n",
              "4      🖊️Official Twitter handle of Department of Inf...  2017-02-12 06:45:15   \n",
              "...                                                  ...                  ...   \n",
              "74431            The only things I collect are memories.  2010-09-24 02:01:15   \n",
              "74432  Law Prof @DickinsonLaw & Entrepreneur | Crypto...  2013-05-14 20:15:24   \n",
              "74433  Our mission is to provide news and perspective...  2018-02-04 12:36:42   \n",
              "74434  Reagan conservative and attorney raised in the...  2014-02-18 03:46:28   \n",
              "74435  My spectral decomposition has a significant da...  2016-12-19 19:55:00   \n",
              "\n",
              "       user_followers  user_friends  user_favourites  user_verified  \\\n",
              "0                 624           950            18775          False   \n",
              "1                2253          1677               24           True   \n",
              "2                9275          9525             7254          False   \n",
              "3                 197           987             1488          False   \n",
              "4              101009           168              101          False   \n",
              "...               ...           ...              ...            ...   \n",
              "74431              85           586             1902          False   \n",
              "74432            4289          1066            53569          False   \n",
              "74433            1413           102               16          False   \n",
              "74434            2554          1733           129104          False   \n",
              "74435             310          1748            60133          False   \n",
              "\n",
              "                      date                                               text  \\\n",
              "0      2020-07-25 12:27:21  If I smelled the scent of hand sanitizers toda...   \n",
              "1      2020-07-25 12:27:17  Hey @Yankees @YankeesPR and @MLB - wouldn't it...   \n",
              "2      2020-07-25 12:27:14  @diane3443 @wdunlap @realDonaldTrump Trump nev...   \n",
              "3      2020-07-25 12:27:10  @brookbanktv The one gift #COVID19 has give me...   \n",
              "4      2020-07-25 12:27:08  25 July : Media Bulletin on Novel #CoronaVirus...   \n",
              "...                    ...                                                ...   \n",
              "74431  2020-08-04 03:13:29  So far this summer I have filled up my lawn mo...   \n",
              "74432  2020-08-04 03:13:26  ICYMI: REPLAY: #TechIntersect🧩 #16: Isaiah \"@B...   \n",
              "74433  2020-08-04 03:13:22  Community workers in Tianshan District of Urum...   \n",
              "74434  2020-08-04 03:13:19  If only we had a responsible media to warn us ...   \n",
              "74435  2020-08-04 03:13:15  MAGA: #COVID19 is just a cold &amp; it'd be go...   \n",
              "\n",
              "                                      hashtags               source  \\\n",
              "0                                          NaN   Twitter for iPhone   \n",
              "1                                          NaN  Twitter for Android   \n",
              "2                                  ['COVID19']  Twitter for Android   \n",
              "3                                  ['COVID19']   Twitter for iPhone   \n",
              "4            ['CoronaVirusUpdates', 'COVID19']  Twitter for Android   \n",
              "...                                        ...                  ...   \n",
              "74431            ['COVID19', 'QuarantineLife']   Twitter for iPhone   \n",
              "74432  ['TechIntersect', 'Bitcoin', 'COVID19']      Twitter Web App   \n",
              "74433                    ['China', 'Xinjiang']      Twitter Web App   \n",
              "74434                              ['COVID19']   Twitter for iPhone   \n",
              "74435       ['COVID19', 'Hydroxycholoroquine']  Twitter for Android   \n",
              "\n",
              "       is_retweet  \n",
              "0           False  \n",
              "1           False  \n",
              "2           False  \n",
              "3           False  \n",
              "4           False  \n",
              "...           ...  \n",
              "74431       False  \n",
              "74432       False  \n",
              "74433       False  \n",
              "74434       False  \n",
              "74435       False  \n",
              "\n",
              "[74436 rows x 13 columns]"
            ],
            "text/html": [
              "\n",
              "  <div id=\"df-aa7f8f68-f061-41bd-8ed7-a9f1387e29a9\" class=\"colab-df-container\">\n",
              "    <div>\n",
              "<style scoped>\n",
              "    .dataframe tbody tr th:only-of-type {\n",
              "        vertical-align: middle;\n",
              "    }\n",
              "\n",
              "    .dataframe tbody tr th {\n",
              "        vertical-align: top;\n",
              "    }\n",
              "\n",
              "    .dataframe thead th {\n",
              "        text-align: right;\n",
              "    }\n",
              "</style>\n",
              "<table border=\"1\" class=\"dataframe\">\n",
              "  <thead>\n",
              "    <tr style=\"text-align: right;\">\n",
              "      <th></th>\n",
              "      <th>user_name</th>\n",
              "      <th>user_location</th>\n",
              "      <th>user_description</th>\n",
              "      <th>user_created</th>\n",
              "      <th>user_followers</th>\n",
              "      <th>user_friends</th>\n",
              "      <th>user_favourites</th>\n",
              "      <th>user_verified</th>\n",
              "      <th>date</th>\n",
              "      <th>text</th>\n",
              "      <th>hashtags</th>\n",
              "      <th>source</th>\n",
              "      <th>is_retweet</th>\n",
              "    </tr>\n",
              "  </thead>\n",
              "  <tbody>\n",
              "    <tr>\n",
              "      <th>0</th>\n",
              "      <td>ᏉᎥ☻լꂅϮ</td>\n",
              "      <td>astroworld</td>\n",
              "      <td>wednesday addams as a disney princess keepin i...</td>\n",
              "      <td>2017-05-26 05:46:42</td>\n",
              "      <td>624</td>\n",
              "      <td>950</td>\n",
              "      <td>18775</td>\n",
              "      <td>False</td>\n",
              "      <td>2020-07-25 12:27:21</td>\n",
              "      <td>If I smelled the scent of hand sanitizers toda...</td>\n",
              "      <td>NaN</td>\n",
              "      <td>Twitter for iPhone</td>\n",
              "      <td>False</td>\n",
              "    </tr>\n",
              "    <tr>\n",
              "      <th>1</th>\n",
              "      <td>Tom Basile 🇺🇸</td>\n",
              "      <td>New York, NY</td>\n",
              "      <td>Husband, Father, Columnist &amp; Commentator. Auth...</td>\n",
              "      <td>2009-04-16 20:06:23</td>\n",
              "      <td>2253</td>\n",
              "      <td>1677</td>\n",
              "      <td>24</td>\n",
              "      <td>True</td>\n",
              "      <td>2020-07-25 12:27:17</td>\n",
              "      <td>Hey @Yankees @YankeesPR and @MLB - wouldn't it...</td>\n",
              "      <td>NaN</td>\n",
              "      <td>Twitter for Android</td>\n",
              "      <td>False</td>\n",
              "    </tr>\n",
              "    <tr>\n",
              "      <th>2</th>\n",
              "      <td>Time4fisticuffs</td>\n",
              "      <td>Pewee Valley, KY</td>\n",
              "      <td>#Christian #Catholic #Conservative #Reagan #Re...</td>\n",
              "      <td>2009-02-28 18:57:41</td>\n",
              "      <td>9275</td>\n",
              "      <td>9525</td>\n",
              "      <td>7254</td>\n",
              "      <td>False</td>\n",
              "      <td>2020-07-25 12:27:14</td>\n",
              "      <td>@diane3443 @wdunlap @realDonaldTrump Trump nev...</td>\n",
              "      <td>['COVID19']</td>\n",
              "      <td>Twitter for Android</td>\n",
              "      <td>False</td>\n",
              "    </tr>\n",
              "    <tr>\n",
              "      <th>3</th>\n",
              "      <td>ethel mertz</td>\n",
              "      <td>Stuck in the Middle</td>\n",
              "      <td>#Browns #Indians #ClevelandProud #[]_[] #Cavs ...</td>\n",
              "      <td>2019-03-07 01:45:06</td>\n",
              "      <td>197</td>\n",
              "      <td>987</td>\n",
              "      <td>1488</td>\n",
              "      <td>False</td>\n",
              "      <td>2020-07-25 12:27:10</td>\n",
              "      <td>@brookbanktv The one gift #COVID19 has give me...</td>\n",
              "      <td>['COVID19']</td>\n",
              "      <td>Twitter for iPhone</td>\n",
              "      <td>False</td>\n",
              "    </tr>\n",
              "    <tr>\n",
              "      <th>4</th>\n",
              "      <td>DIPR-J&amp;K</td>\n",
              "      <td>Jammu and Kashmir</td>\n",
              "      <td>🖊️Official Twitter handle of Department of Inf...</td>\n",
              "      <td>2017-02-12 06:45:15</td>\n",
              "      <td>101009</td>\n",
              "      <td>168</td>\n",
              "      <td>101</td>\n",
              "      <td>False</td>\n",
              "      <td>2020-07-25 12:27:08</td>\n",
              "      <td>25 July : Media Bulletin on Novel #CoronaVirus...</td>\n",
              "      <td>['CoronaVirusUpdates', 'COVID19']</td>\n",
              "      <td>Twitter for Android</td>\n",
              "      <td>False</td>\n",
              "    </tr>\n",
              "    <tr>\n",
              "      <th>...</th>\n",
              "      <td>...</td>\n",
              "      <td>...</td>\n",
              "      <td>...</td>\n",
              "      <td>...</td>\n",
              "      <td>...</td>\n",
              "      <td>...</td>\n",
              "      <td>...</td>\n",
              "      <td>...</td>\n",
              "      <td>...</td>\n",
              "      <td>...</td>\n",
              "      <td>...</td>\n",
              "      <td>...</td>\n",
              "      <td>...</td>\n",
              "    </tr>\n",
              "    <tr>\n",
              "      <th>74431</th>\n",
              "      <td>Laura Wolfrom</td>\n",
              "      <td>Lexington, KY</td>\n",
              "      <td>The only things I collect are memories.</td>\n",
              "      <td>2010-09-24 02:01:15</td>\n",
              "      <td>85</td>\n",
              "      <td>586</td>\n",
              "      <td>1902</td>\n",
              "      <td>False</td>\n",
              "      <td>2020-08-04 03:13:29</td>\n",
              "      <td>So far this summer I have filled up my lawn mo...</td>\n",
              "      <td>['COVID19', 'QuarantineLife']</td>\n",
              "      <td>Twitter for iPhone</td>\n",
              "      <td>False</td>\n",
              "    </tr>\n",
              "    <tr>\n",
              "      <th>74432</th>\n",
              "      <td>Professor Tonya M. Evans</td>\n",
              "      <td>😷 #stayathome</td>\n",
              "      <td>Law Prof @DickinsonLaw &amp; Entrepreneur | Crypto...</td>\n",
              "      <td>2013-05-14 20:15:24</td>\n",
              "      <td>4289</td>\n",
              "      <td>1066</td>\n",
              "      <td>53569</td>\n",
              "      <td>False</td>\n",
              "      <td>2020-08-04 03:13:26</td>\n",
              "      <td>ICYMI: REPLAY: #TechIntersect🧩 #16: Isaiah \"@B...</td>\n",
              "      <td>['TechIntersect', 'Bitcoin', 'COVID19']</td>\n",
              "      <td>Twitter Web App</td>\n",
              "      <td>False</td>\n",
              "    </tr>\n",
              "    <tr>\n",
              "      <th>74433</th>\n",
              "      <td>People's Daily app</td>\n",
              "      <td>北京, 中华人民共和国</td>\n",
              "      <td>Our mission is to provide news and perspective...</td>\n",
              "      <td>2018-02-04 12:36:42</td>\n",
              "      <td>1413</td>\n",
              "      <td>102</td>\n",
              "      <td>16</td>\n",
              "      <td>False</td>\n",
              "      <td>2020-08-04 03:13:22</td>\n",
              "      <td>Community workers in Tianshan District of Urum...</td>\n",
              "      <td>['China', 'Xinjiang']</td>\n",
              "      <td>Twitter Web App</td>\n",
              "      <td>False</td>\n",
              "    </tr>\n",
              "    <tr>\n",
              "      <th>74434</th>\n",
              "      <td>M0ser</td>\n",
              "      <td>NaN</td>\n",
              "      <td>Reagan conservative and attorney raised in the...</td>\n",
              "      <td>2014-02-18 03:46:28</td>\n",
              "      <td>2554</td>\n",
              "      <td>1733</td>\n",
              "      <td>129104</td>\n",
              "      <td>False</td>\n",
              "      <td>2020-08-04 03:13:19</td>\n",
              "      <td>If only we had a responsible media to warn us ...</td>\n",
              "      <td>['COVID19']</td>\n",
              "      <td>Twitter for iPhone</td>\n",
              "      <td>False</td>\n",
              "    </tr>\n",
              "    <tr>\n",
              "      <th>74435</th>\n",
              "      <td>Your Friend &amp; Sabre ⚔️</td>\n",
              "      <td>Chicago, IL</td>\n",
              "      <td>My spectral decomposition has a significant da...</td>\n",
              "      <td>2016-12-19 19:55:00</td>\n",
              "      <td>310</td>\n",
              "      <td>1748</td>\n",
              "      <td>60133</td>\n",
              "      <td>False</td>\n",
              "      <td>2020-08-04 03:13:15</td>\n",
              "      <td>MAGA: #COVID19 is just a cold &amp;amp; it'd be go...</td>\n",
              "      <td>['COVID19', 'Hydroxycholoroquine']</td>\n",
              "      <td>Twitter for Android</td>\n",
              "      <td>False</td>\n",
              "    </tr>\n",
              "  </tbody>\n",
              "</table>\n",
              "<p>74436 rows × 13 columns</p>\n",
              "</div>\n",
              "    <div class=\"colab-df-buttons\">\n",
              "\n",
              "  <div class=\"colab-df-container\">\n",
              "    <button class=\"colab-df-convert\" onclick=\"convertToInteractive('df-aa7f8f68-f061-41bd-8ed7-a9f1387e29a9')\"\n",
              "            title=\"Convert this dataframe to an interactive table.\"\n",
              "            style=\"display:none;\">\n",
              "\n",
              "  <svg xmlns=\"http://www.w3.org/2000/svg\" height=\"24px\" viewBox=\"0 -960 960 960\">\n",
              "    <path d=\"M120-120v-720h720v720H120Zm60-500h600v-160H180v160Zm220 220h160v-160H400v160Zm0 220h160v-160H400v160ZM180-400h160v-160H180v160Zm440 0h160v-160H620v160ZM180-180h160v-160H180v160Zm440 0h160v-160H620v160Z\"/>\n",
              "  </svg>\n",
              "    </button>\n",
              "\n",
              "  <style>\n",
              "    .colab-df-container {\n",
              "      display:flex;\n",
              "      gap: 12px;\n",
              "    }\n",
              "\n",
              "    .colab-df-convert {\n",
              "      background-color: #E8F0FE;\n",
              "      border: none;\n",
              "      border-radius: 50%;\n",
              "      cursor: pointer;\n",
              "      display: none;\n",
              "      fill: #1967D2;\n",
              "      height: 32px;\n",
              "      padding: 0 0 0 0;\n",
              "      width: 32px;\n",
              "    }\n",
              "\n",
              "    .colab-df-convert:hover {\n",
              "      background-color: #E2EBFA;\n",
              "      box-shadow: 0px 1px 2px rgba(60, 64, 67, 0.3), 0px 1px 3px 1px rgba(60, 64, 67, 0.15);\n",
              "      fill: #174EA6;\n",
              "    }\n",
              "\n",
              "    .colab-df-buttons div {\n",
              "      margin-bottom: 4px;\n",
              "    }\n",
              "\n",
              "    [theme=dark] .colab-df-convert {\n",
              "      background-color: #3B4455;\n",
              "      fill: #D2E3FC;\n",
              "    }\n",
              "\n",
              "    [theme=dark] .colab-df-convert:hover {\n",
              "      background-color: #434B5C;\n",
              "      box-shadow: 0px 1px 3px 1px rgba(0, 0, 0, 0.15);\n",
              "      filter: drop-shadow(0px 1px 2px rgba(0, 0, 0, 0.3));\n",
              "      fill: #FFFFFF;\n",
              "    }\n",
              "  </style>\n",
              "\n",
              "    <script>\n",
              "      const buttonEl =\n",
              "        document.querySelector('#df-aa7f8f68-f061-41bd-8ed7-a9f1387e29a9 button.colab-df-convert');\n",
              "      buttonEl.style.display =\n",
              "        google.colab.kernel.accessAllowed ? 'block' : 'none';\n",
              "\n",
              "      async function convertToInteractive(key) {\n",
              "        const element = document.querySelector('#df-aa7f8f68-f061-41bd-8ed7-a9f1387e29a9');\n",
              "        const dataTable =\n",
              "          await google.colab.kernel.invokeFunction('convertToInteractive',\n",
              "                                                    [key], {});\n",
              "        if (!dataTable) return;\n",
              "\n",
              "        const docLinkHtml = 'Like what you see? Visit the ' +\n",
              "          '<a target=\"_blank\" href=https://colab.research.google.com/notebooks/data_table.ipynb>data table notebook</a>'\n",
              "          + ' to learn more about interactive tables.';\n",
              "        element.innerHTML = '';\n",
              "        dataTable['output_type'] = 'display_data';\n",
              "        await google.colab.output.renderOutput(dataTable, element);\n",
              "        const docLink = document.createElement('div');\n",
              "        docLink.innerHTML = docLinkHtml;\n",
              "        element.appendChild(docLink);\n",
              "      }\n",
              "    </script>\n",
              "  </div>\n",
              "\n",
              "\n",
              "<div id=\"df-2bd7b690-8a33-4a9b-a3ba-c607eb66aba7\">\n",
              "  <button class=\"colab-df-quickchart\" onclick=\"quickchart('df-2bd7b690-8a33-4a9b-a3ba-c607eb66aba7')\"\n",
              "            title=\"Suggest charts.\"\n",
              "            style=\"display:none;\">\n",
              "\n",
              "<svg xmlns=\"http://www.w3.org/2000/svg\" height=\"24px\"viewBox=\"0 0 24 24\"\n",
              "     width=\"24px\">\n",
              "    <g>\n",
              "        <path d=\"M19 3H5c-1.1 0-2 .9-2 2v14c0 1.1.9 2 2 2h14c1.1 0 2-.9 2-2V5c0-1.1-.9-2-2-2zM9 17H7v-7h2v7zm4 0h-2V7h2v10zm4 0h-2v-4h2v4z\"/>\n",
              "    </g>\n",
              "</svg>\n",
              "  </button>\n",
              "\n",
              "<style>\n",
              "  .colab-df-quickchart {\n",
              "      --bg-color: #E8F0FE;\n",
              "      --fill-color: #1967D2;\n",
              "      --hover-bg-color: #E2EBFA;\n",
              "      --hover-fill-color: #174EA6;\n",
              "      --disabled-fill-color: #AAA;\n",
              "      --disabled-bg-color: #DDD;\n",
              "  }\n",
              "\n",
              "  [theme=dark] .colab-df-quickchart {\n",
              "      --bg-color: #3B4455;\n",
              "      --fill-color: #D2E3FC;\n",
              "      --hover-bg-color: #434B5C;\n",
              "      --hover-fill-color: #FFFFFF;\n",
              "      --disabled-bg-color: #3B4455;\n",
              "      --disabled-fill-color: #666;\n",
              "  }\n",
              "\n",
              "  .colab-df-quickchart {\n",
              "    background-color: var(--bg-color);\n",
              "    border: none;\n",
              "    border-radius: 50%;\n",
              "    cursor: pointer;\n",
              "    display: none;\n",
              "    fill: var(--fill-color);\n",
              "    height: 32px;\n",
              "    padding: 0;\n",
              "    width: 32px;\n",
              "  }\n",
              "\n",
              "  .colab-df-quickchart:hover {\n",
              "    background-color: var(--hover-bg-color);\n",
              "    box-shadow: 0 1px 2px rgba(60, 64, 67, 0.3), 0 1px 3px 1px rgba(60, 64, 67, 0.15);\n",
              "    fill: var(--button-hover-fill-color);\n",
              "  }\n",
              "\n",
              "  .colab-df-quickchart-complete:disabled,\n",
              "  .colab-df-quickchart-complete:disabled:hover {\n",
              "    background-color: var(--disabled-bg-color);\n",
              "    fill: var(--disabled-fill-color);\n",
              "    box-shadow: none;\n",
              "  }\n",
              "\n",
              "  .colab-df-spinner {\n",
              "    border: 2px solid var(--fill-color);\n",
              "    border-color: transparent;\n",
              "    border-bottom-color: var(--fill-color);\n",
              "    animation:\n",
              "      spin 1s steps(1) infinite;\n",
              "  }\n",
              "\n",
              "  @keyframes spin {\n",
              "    0% {\n",
              "      border-color: transparent;\n",
              "      border-bottom-color: var(--fill-color);\n",
              "      border-left-color: var(--fill-color);\n",
              "    }\n",
              "    20% {\n",
              "      border-color: transparent;\n",
              "      border-left-color: var(--fill-color);\n",
              "      border-top-color: var(--fill-color);\n",
              "    }\n",
              "    30% {\n",
              "      border-color: transparent;\n",
              "      border-left-color: var(--fill-color);\n",
              "      border-top-color: var(--fill-color);\n",
              "      border-right-color: var(--fill-color);\n",
              "    }\n",
              "    40% {\n",
              "      border-color: transparent;\n",
              "      border-right-color: var(--fill-color);\n",
              "      border-top-color: var(--fill-color);\n",
              "    }\n",
              "    60% {\n",
              "      border-color: transparent;\n",
              "      border-right-color: var(--fill-color);\n",
              "    }\n",
              "    80% {\n",
              "      border-color: transparent;\n",
              "      border-right-color: var(--fill-color);\n",
              "      border-bottom-color: var(--fill-color);\n",
              "    }\n",
              "    90% {\n",
              "      border-color: transparent;\n",
              "      border-bottom-color: var(--fill-color);\n",
              "    }\n",
              "  }\n",
              "</style>\n",
              "\n",
              "  <script>\n",
              "    async function quickchart(key) {\n",
              "      const quickchartButtonEl =\n",
              "        document.querySelector('#' + key + ' button');\n",
              "      quickchartButtonEl.disabled = true;  // To prevent multiple clicks.\n",
              "      quickchartButtonEl.classList.add('colab-df-spinner');\n",
              "      try {\n",
              "        const charts = await google.colab.kernel.invokeFunction(\n",
              "            'suggestCharts', [key], {});\n",
              "      } catch (error) {\n",
              "        console.error('Error during call to suggestCharts:', error);\n",
              "      }\n",
              "      quickchartButtonEl.classList.remove('colab-df-spinner');\n",
              "      quickchartButtonEl.classList.add('colab-df-quickchart-complete');\n",
              "    }\n",
              "    (() => {\n",
              "      let quickchartButtonEl =\n",
              "        document.querySelector('#df-2bd7b690-8a33-4a9b-a3ba-c607eb66aba7 button');\n",
              "      quickchartButtonEl.style.display =\n",
              "        google.colab.kernel.accessAllowed ? 'block' : 'none';\n",
              "    })();\n",
              "  </script>\n",
              "</div>\n",
              "    </div>\n",
              "  </div>\n"
            ]
          },
          "metadata": {},
          "execution_count": 12
        }
      ]
    },
    {
      "cell_type": "code",
      "source": [
        "data.columns"
      ],
      "metadata": {
        "colab": {
          "base_uri": "https://localhost:8080/"
        },
        "id": "g8RUw2Nc2jkH",
        "outputId": "28d439a6-0247-4edc-dab8-ef001eb52d08"
      },
      "execution_count": 15,
      "outputs": [
        {
          "output_type": "execute_result",
          "data": {
            "text/plain": [
              "Index(['user_name', 'user_location', 'user_description', 'user_created',\n",
              "       'user_followers', 'user_friends', 'user_favourites', 'user_verified',\n",
              "       'date', 'text', 'hashtags', 'source', 'is_retweet'],\n",
              "      dtype='object')"
            ]
          },
          "metadata": {},
          "execution_count": 15
        }
      ]
    },
    {
      "cell_type": "markdown",
      "source": [
        "# Analisis estadisitico de las variables"
      ],
      "metadata": {
        "id": "bDPd2Z-RPVLy"
      }
    },
    {
      "cell_type": "markdown",
      "source": [
        "Se realizaran un analisis estadistico empleando el promedio o media aritmetica, la mediana y la desviacion estandar, de los datos numericos de la base de datos previamente cargada."
      ],
      "metadata": {
        "id": "Ev-oaOv4hN0O"
      }
    },
    {
      "cell_type": "markdown",
      "source": [
        "## Variable: user_friends"
      ],
      "metadata": {
        "id": "hK0efICnQXaU"
      }
    },
    {
      "cell_type": "code",
      "source": [
        "followers = data['user_followers']\n",
        "media = np.mean(followers)\n",
        "print(\"El promedio de 'followers' por usuario es de:\", media)\n",
        "\n",
        "mediana = np.median(followers)\n",
        "print(\"La mediana de 'followers' de todos los usuarios es de:\", mediana)\n",
        "\n",
        "desv = np.std(followers)\n",
        "print(\"La desviacion estandar de los 'followers' es:\", desv)"
      ],
      "metadata": {
        "colab": {
          "base_uri": "https://localhost:8080/"
        },
        "id": "QFnSIjT5NyuB",
        "outputId": "6357edfb-a1e0-4b76-d01c-20bc922b3e9f"
      },
      "execution_count": 43,
      "outputs": [
        {
          "output_type": "stream",
          "name": "stdout",
          "text": [
            "El promedio de 'followers' por usuario es de: 105951.31291310657\n",
            "La mediana de 'followers' de todos los usuarios es de: 960.0\n",
            "La desviacion estandar de los 'followers' es: 822284.4620050807\n"
          ]
        }
      ]
    },
    {
      "cell_type": "markdown",
      "source": [],
      "metadata": {
        "id": "Hs8KcXSHT1M5"
      }
    },
    {
      "cell_type": "markdown",
      "source": [
        "## Variable: user_friends"
      ],
      "metadata": {
        "id": "HvQ2YavWQafV"
      }
    },
    {
      "cell_type": "code",
      "source": [
        "friends = data['user_friends']\n",
        "media = np.mean(friends)\n",
        "print(\"El promedio de 'friends' por usuario es de:\", media)\n",
        "\n",
        "mediana = np.median(friends)\n",
        "print(\"La mediana de 'friends' de todos los usuarios es de:\", mediana)\n",
        "\n",
        "desv = np.std(friends)\n",
        "print(\"La desviacion estandar de los 'friends' es:\", desv)"
      ],
      "metadata": {
        "colab": {
          "base_uri": "https://localhost:8080/"
        },
        "id": "N21Tp8B7QhSa",
        "outputId": "3649824e-2d8f-4700-9067-462e3f9ce266"
      },
      "execution_count": 44,
      "outputs": [
        {
          "output_type": "stream",
          "name": "stdout",
          "text": [
            "El promedio de 'friends' por usuario es de: 2154.7211698640444\n",
            "La mediana de 'friends' de todos los usuarios es de: 552.0\n",
            "La desviacion estandar de los 'friends' es: 9365.524563197956\n"
          ]
        }
      ]
    },
    {
      "cell_type": "markdown",
      "source": [
        "## Variable: user_favorites"
      ],
      "metadata": {
        "id": "pi1Maiu_Qvye"
      }
    },
    {
      "cell_type": "code",
      "source": [
        "fav = data['user_favourites']\n",
        "media = np.mean(fav)\n",
        "print(\"El promedio de 'favourites' por usuario es de:\", media)\n",
        "\n",
        "mediana = np.median(fav)\n",
        "print(\"La mediana de 'favourites' de todos los usuarios es de:\", mediana)\n",
        "\n",
        "desv = np.std(fav)\n",
        "print(\"La desviacion estandar de los 'friends' es:\", desv)"
      ],
      "metadata": {
        "colab": {
          "base_uri": "https://localhost:8080/"
        },
        "id": "CTUuxo7mQ0GB",
        "outputId": "5ea0de17-0315-47b4-83b4-3f16ad99c474"
      },
      "execution_count": 49,
      "outputs": [
        {
          "output_type": "stream",
          "name": "stdout",
          "text": [
            "El promedio de 'favourites' por usuario es de: 15297.472029663066\n",
            "La mediana de 'favourites' de todos los usuarios es de: 1927.0\n",
            "La desviacion estandar de los 'friends' es: 46689.400666605405\n"
          ]
        }
      ]
    },
    {
      "cell_type": "markdown",
      "source": [
        "## Variable: user_verified\n",
        "\n"
      ],
      "metadata": {
        "id": "t3IqR522RJ0O"
      }
    },
    {
      "cell_type": "code",
      "source": [
        "verif = data['user_verified']\n",
        "media = np.mean(verif)\n",
        "print(\"El promedio de 'verified' por usuario es de:\", media)\n",
        "\n",
        "mediana = np.median(verif)\n",
        "print(\"La mediana de 'verified' de todos los usuarios es de:\", mediana)\n",
        "\n",
        "desv = np.std(verif)\n",
        "print(\"La desviacion estandar de los 'verified' es:\", desv)"
      ],
      "metadata": {
        "colab": {
          "base_uri": "https://localhost:8080/"
        },
        "id": "3AjerC-PRIiK",
        "outputId": "010591b9-16a3-449a-eecd-db2ad93ec4d9"
      },
      "execution_count": 47,
      "outputs": [
        {
          "output_type": "stream",
          "name": "stdout",
          "text": [
            "El promedio de 'verified' por usuario es de: 0.12566500080606158\n",
            "La mediana de 'verified' de todos los usuarios es de: 0.0\n",
            "La desviacion estandar de los 'verified' es: 0.33147142920389705\n"
          ]
        }
      ]
    },
    {
      "cell_type": "markdown",
      "source": [
        "## Variable: is_retweeted"
      ],
      "metadata": {
        "id": "w2WAmJCWSU-u"
      }
    },
    {
      "cell_type": "code",
      "source": [
        "ret = data['is_retweet']\n",
        "media = np.mean(ret)\n",
        "print(\"El promedio de 'retweet' por usuario es de:\", media)\n",
        "\n",
        "mediana = np.median(ret)\n",
        "print(\"La mediana de 'retwwet' de todos los usuarios es de:\", mediana)\n",
        "\n",
        "desv = np.std(ret)\n",
        "print(\"La desviacion estandar de los 'retweet' es:\", desv)"
      ],
      "metadata": {
        "colab": {
          "base_uri": "https://localhost:8080/"
        },
        "id": "AU0MPsnySS9J",
        "outputId": "de0e0a22-d9a3-4482-cd87-7eab4fbf50e4"
      },
      "execution_count": 48,
      "outputs": [
        {
          "output_type": "stream",
          "name": "stdout",
          "text": [
            "El promedio de 'retweet' por usuario es de: 0.0\n",
            "La mediana de 'retwwet' de todos los usuarios es de: 0.0\n",
            "La desviacion estandar de los 'retweet' es: 0.0\n"
          ]
        }
      ]
    },
    {
      "cell_type": "markdown",
      "source": [
        "## Analisis:"
      ],
      "metadata": {
        "id": "JEcc-Ls9vMfk"
      }
    },
    {
      "cell_type": "markdown",
      "source": [
        "Gracias al analisis estadistico, es que podemos tener un reflejo de datos especificos de nuestra muestra. Pudimos observar que a pesar que, en la mayoria de los casos, el promedio o media aritmetica era muy elevado, la mediana era muy inferior a dicho valor. Por medio de la desviacion estandar es que podemos ver cuan alejados estan los valores de nuestra media aritmetica, comprobando asi que nuestro promedio es mayor al estandar de nuestos datos."
      ],
      "metadata": {
        "id": "1iMOOz-9v4ZZ"
      }
    }
  ]
}